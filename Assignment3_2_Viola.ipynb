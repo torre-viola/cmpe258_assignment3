{
  "nbformat": 4,
  "nbformat_minor": 0,
  "metadata": {
    "colab": {
      "name": "Assignment3_2_Viola.ipynb",
      "provenance": [],
      "collapsed_sections": []
    },
    "kernelspec": {
      "name": "python3",
      "display_name": "Python 3"
    },
    "language_info": {
      "name": "python"
    }
  },
  "cells": [
    {
      "cell_type": "code",
      "metadata": {
        "id": "cNkDbROyiNiE"
      },
      "source": [
        "import tensorflow as tf\n",
        "import numpy as np"
      ],
      "execution_count": null,
      "outputs": []
    },
    {
      "cell_type": "code",
      "metadata": {
        "id": "Z3hGWvM9NQNe"
      },
      "source": [
        "from tensorflow.keras.layers import Conv2D, Dense, MaxPooling2D, Reshape, Flatten\n",
        "from tensorflow.keras.models import Sequential "
      ],
      "execution_count": null,
      "outputs": []
    },
    {
      "cell_type": "code",
      "metadata": {
        "colab": {
          "base_uri": "https://localhost:8080/"
        },
        "id": "zAt5lxcSNQ7L",
        "outputId": "4542a028-d32e-43e5-b753-2d5d6f821a0c"
      },
      "source": [
        "model = Sequential()\n",
        "model.add(Conv2D(filters=64, kernel_size=(6, 6), strides=(1, 1), input_shape=(127,127, 3), padding='same', activation='relu'))\n",
        "model.add(MaxPooling2D(pool_size=(2, 2), strides=(2, 2), padding='same'))\n",
        "\n",
        "model.add(Conv2D(filters=64, kernel_size=(2, 2), padding='same', activation='relu'))\n",
        "model.add(MaxPooling2D(pool_size=(2, 2), strides=(2, 2), padding='same'))\n",
        "\n",
        "model.add(Conv2D(filters=128, kernel_size=(1, 1), padding='same', activation='relu'))\n",
        "model.add(Conv2D(filters=256, kernel_size=(2, 2), padding='same', activation='relu'))\n",
        "model.add(MaxPooling2D(pool_size=(2, 2), strides=(2, 2), padding='same'))\n",
        "\n",
        "model.add(Conv2D(filters=128, kernel_size=(1, 1), padding='same', activation='relu'))\n",
        "model.add(Conv2D(filters=256, kernel_size=(2, 2), padding='same', activation='relu'))\n",
        "model.add(Conv2D(filters=128, kernel_size=(1, 1), padding='same', activation='relu'))\n",
        "model.add(Conv2D(filters=256, kernel_size=(2, 2), padding='same', activation='relu'))\n",
        "model.add(Conv2D(filters=512, kernel_size=(1, 1), padding='same', activation='relu'))\n",
        "model.add(Conv2D(filters=512, kernel_size=(2, 2), padding='same', activation='relu'))\n",
        "model.add(MaxPooling2D(pool_size=(2, 2), strides=(2, 2), padding='same'))\n",
        "\n",
        "model.add(Conv2D(filters=256, kernel_size=(1, 1), padding='same', activation='relu'))\n",
        "model.add(Conv2D(filters=512, kernel_size=(2, 2), padding='same', activation='relu'))\n",
        "model.add(Conv2D(filters=512, kernel_size=(1, 1), padding='same', activation='relu'))\n",
        "model.add(Conv2D(filters=1024, kernel_size=(2, 2), padding='same', activation='relu'))\n",
        "model.add(Conv2D(filters=1024, kernel_size=(2, 2), strides=(2, 2), padding='same'))\n",
        "\n",
        "model.add(Flatten())\n",
        "model.add(Dense(512))\n",
        "model.add(Dense(1024))\n",
        "model.add(Dense(3200, activation='sigmoid'))\n",
        "model.add(Reshape(target_shape=(8,8,50)))\n",
        "\n",
        "model.summary()"
      ],
      "execution_count": null,
      "outputs": [
        {
          "output_type": "stream",
          "name": "stdout",
          "text": [
            "Model: \"sequential_5\"\n",
            "_________________________________________________________________\n",
            " Layer (type)                Output Shape              Param #   \n",
            "=================================================================\n",
            " conv2d_69 (Conv2D)          (None, 127, 127, 64)      6976      \n",
            "                                                                 \n",
            " max_pooling2d_16 (MaxPoolin  (None, 64, 64, 64)       0         \n",
            " g2D)                                                            \n",
            "                                                                 \n",
            " conv2d_70 (Conv2D)          (None, 64, 64, 64)        16448     \n",
            "                                                                 \n",
            " max_pooling2d_17 (MaxPoolin  (None, 32, 32, 64)       0         \n",
            " g2D)                                                            \n",
            "                                                                 \n",
            " conv2d_71 (Conv2D)          (None, 32, 32, 128)       8320      \n",
            "                                                                 \n",
            " conv2d_72 (Conv2D)          (None, 32, 32, 256)       131328    \n",
            "                                                                 \n",
            " max_pooling2d_18 (MaxPoolin  (None, 16, 16, 256)      0         \n",
            " g2D)                                                            \n",
            "                                                                 \n",
            " conv2d_73 (Conv2D)          (None, 16, 16, 128)       32896     \n",
            "                                                                 \n",
            " conv2d_74 (Conv2D)          (None, 16, 16, 256)       131328    \n",
            "                                                                 \n",
            " conv2d_75 (Conv2D)          (None, 16, 16, 128)       32896     \n",
            "                                                                 \n",
            " conv2d_76 (Conv2D)          (None, 16, 16, 256)       131328    \n",
            "                                                                 \n",
            " conv2d_77 (Conv2D)          (None, 16, 16, 512)       131584    \n",
            "                                                                 \n",
            " conv2d_78 (Conv2D)          (None, 16, 16, 512)       1049088   \n",
            "                                                                 \n",
            " max_pooling2d_19 (MaxPoolin  (None, 8, 8, 512)        0         \n",
            " g2D)                                                            \n",
            "                                                                 \n",
            " conv2d_79 (Conv2D)          (None, 8, 8, 256)         131328    \n",
            "                                                                 \n",
            " conv2d_80 (Conv2D)          (None, 8, 8, 512)         524800    \n",
            "                                                                 \n",
            " conv2d_81 (Conv2D)          (None, 8, 8, 512)         262656    \n",
            "                                                                 \n",
            " conv2d_82 (Conv2D)          (None, 8, 8, 1024)        2098176   \n",
            "                                                                 \n",
            " conv2d_83 (Conv2D)          (None, 4, 4, 1024)        4195328   \n",
            "                                                                 \n",
            " flatten_2 (Flatten)         (None, 16384)             0         \n",
            "                                                                 \n",
            " dense_5 (Dense)             (None, 512)               8389120   \n",
            "                                                                 \n",
            " dense_6 (Dense)             (None, 1024)              525312    \n",
            "                                                                 \n",
            " dense_7 (Dense)             (None, 3200)              3280000   \n",
            "                                                                 \n",
            " reshape_1 (Reshape)         (None, 8, 8, 50)          0         \n",
            "                                                                 \n",
            "=================================================================\n",
            "Total params: 21,078,912\n",
            "Trainable params: 21,078,912\n",
            "Non-trainable params: 0\n",
            "_________________________________________________________________\n"
          ]
        }
      ]
    },
    {
      "cell_type": "code",
      "metadata": {
        "id": "_eZcBuWnO0gY"
      },
      "source": [
        ""
      ],
      "execution_count": null,
      "outputs": []
    }
  ]
}